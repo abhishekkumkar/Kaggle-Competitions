{
 "cells": [
  {
   "cell_type": "code",
   "execution_count": 1,
   "metadata": {
    "_cell_guid": "b1076dfc-b9ad-4769-8c92-a6c4dae69d19",
    "_uuid": "8f2839f25d086af736a60e9eeb907d3b93b6e0e5"
   },
   "outputs": [
    {
     "name": "stdout",
     "output_type": "stream",
     "text": [
      "/kaggle/input/covid19-global-forecasting-week-4/submission.csv\n",
      "/kaggle/input/covid19-global-forecasting-week-4/test.csv\n",
      "/kaggle/input/covid19-global-forecasting-week-4/train.csv\n"
     ]
    }
   ],
   "source": [
    "# This Python 3 environment comes with many helpful analytics libraries installed\n",
    "# It is defined by the kaggle/python docker image: https://github.com/kaggle/docker-python\n",
    "# For example, here's several helpful packages to load in \n",
    "\n",
    "import numpy as np # linear algebra\n",
    "import pandas as pd # data processing, CSV file I/O (e.g. pd.read_csv)\n",
    "\n",
    "# Input data files are available in the \"../input/\" directory.\n",
    "# For example, running this (by clicking run or pressing Shift+Enter) will list all files under the input directory\n",
    "\n",
    "import os\n",
    "for dirname, _, filenames in os.walk('/kaggle/input'):\n",
    "    for filename in filenames:\n",
    "        print(os.path.join(dirname, filename))\n",
    "\n",
    "# Any results you write to the current directory are saved as output."
   ]
  },
  {
   "cell_type": "code",
   "execution_count": 2,
   "metadata": {
    "_cell_guid": "79c7e3d0-c299-4dcb-8224-4455121ee9b0",
    "_uuid": "d629ff2d2480ee46fbb7e2d37f6b5fab8052498a"
   },
   "outputs": [],
   "source": [
    "from sklearn.model_selection import train_test_split\n",
    "from xgboost import XGBRegressor\n",
    "from sklearn.preprocessing import LabelBinarizer,LabelEncoder,StandardScaler,MinMaxScaler\n",
    "from sklearn.metrics import mean_squared_log_error\n"
   ]
  },
  {
   "cell_type": "code",
   "execution_count": 3,
   "metadata": {},
   "outputs": [],
   "source": [
    "train_df = pd.read_csv(\"../input/covid19-global-forecasting-week-4/train.csv\")\n",
    "test_df = pd.read_csv(\"../input/covid19-global-forecasting-week-4/test.csv\")\n",
    "submission_df = pd.read_csv(\"../input/covid19-global-forecasting-week-4/submission.csv\")"
   ]
  },
  {
   "cell_type": "code",
   "execution_count": 4,
   "metadata": {},
   "outputs": [
    {
     "data": {
      "text/html": [
       "<div>\n",
       "<style scoped>\n",
       "    .dataframe tbody tr th:only-of-type {\n",
       "        vertical-align: middle;\n",
       "    }\n",
       "\n",
       "    .dataframe tbody tr th {\n",
       "        vertical-align: top;\n",
       "    }\n",
       "\n",
       "    .dataframe thead th {\n",
       "        text-align: right;\n",
       "    }\n",
       "</style>\n",
       "<table border=\"1\" class=\"dataframe\">\n",
       "  <thead>\n",
       "    <tr style=\"text-align: right;\">\n",
       "      <th></th>\n",
       "      <th>Id</th>\n",
       "      <th>Province_State</th>\n",
       "      <th>Country_Region</th>\n",
       "      <th>Date</th>\n",
       "      <th>ConfirmedCases</th>\n",
       "      <th>Fatalities</th>\n",
       "    </tr>\n",
       "  </thead>\n",
       "  <tbody>\n",
       "    <tr>\n",
       "      <th>0</th>\n",
       "      <td>1</td>\n",
       "      <td>NaN</td>\n",
       "      <td>Afghanistan</td>\n",
       "      <td>2020-01-22</td>\n",
       "      <td>0.0</td>\n",
       "      <td>0.0</td>\n",
       "    </tr>\n",
       "    <tr>\n",
       "      <th>1</th>\n",
       "      <td>2</td>\n",
       "      <td>NaN</td>\n",
       "      <td>Afghanistan</td>\n",
       "      <td>2020-01-23</td>\n",
       "      <td>0.0</td>\n",
       "      <td>0.0</td>\n",
       "    </tr>\n",
       "    <tr>\n",
       "      <th>2</th>\n",
       "      <td>3</td>\n",
       "      <td>NaN</td>\n",
       "      <td>Afghanistan</td>\n",
       "      <td>2020-01-24</td>\n",
       "      <td>0.0</td>\n",
       "      <td>0.0</td>\n",
       "    </tr>\n",
       "    <tr>\n",
       "      <th>3</th>\n",
       "      <td>4</td>\n",
       "      <td>NaN</td>\n",
       "      <td>Afghanistan</td>\n",
       "      <td>2020-01-25</td>\n",
       "      <td>0.0</td>\n",
       "      <td>0.0</td>\n",
       "    </tr>\n",
       "    <tr>\n",
       "      <th>4</th>\n",
       "      <td>5</td>\n",
       "      <td>NaN</td>\n",
       "      <td>Afghanistan</td>\n",
       "      <td>2020-01-26</td>\n",
       "      <td>0.0</td>\n",
       "      <td>0.0</td>\n",
       "    </tr>\n",
       "  </tbody>\n",
       "</table>\n",
       "</div>"
      ],
      "text/plain": [
       "   Id Province_State Country_Region        Date  ConfirmedCases  Fatalities\n",
       "0   1            NaN    Afghanistan  2020-01-22             0.0         0.0\n",
       "1   2            NaN    Afghanistan  2020-01-23             0.0         0.0\n",
       "2   3            NaN    Afghanistan  2020-01-24             0.0         0.0\n",
       "3   4            NaN    Afghanistan  2020-01-25             0.0         0.0\n",
       "4   5            NaN    Afghanistan  2020-01-26             0.0         0.0"
      ]
     },
     "execution_count": 4,
     "metadata": {},
     "output_type": "execute_result"
    }
   ],
   "source": [
    "train_df.head()"
   ]
  },
  {
   "cell_type": "code",
   "execution_count": 5,
   "metadata": {},
   "outputs": [
    {
     "data": {
      "text/html": [
       "<div>\n",
       "<style scoped>\n",
       "    .dataframe tbody tr th:only-of-type {\n",
       "        vertical-align: middle;\n",
       "    }\n",
       "\n",
       "    .dataframe tbody tr th {\n",
       "        vertical-align: top;\n",
       "    }\n",
       "\n",
       "    .dataframe thead th {\n",
       "        text-align: right;\n",
       "    }\n",
       "</style>\n",
       "<table border=\"1\" class=\"dataframe\">\n",
       "  <thead>\n",
       "    <tr style=\"text-align: right;\">\n",
       "      <th></th>\n",
       "      <th>ForecastId</th>\n",
       "      <th>Province_State</th>\n",
       "      <th>Country_Region</th>\n",
       "      <th>Date</th>\n",
       "    </tr>\n",
       "  </thead>\n",
       "  <tbody>\n",
       "    <tr>\n",
       "      <th>0</th>\n",
       "      <td>1</td>\n",
       "      <td>NaN</td>\n",
       "      <td>Afghanistan</td>\n",
       "      <td>2020-04-02</td>\n",
       "    </tr>\n",
       "    <tr>\n",
       "      <th>1</th>\n",
       "      <td>2</td>\n",
       "      <td>NaN</td>\n",
       "      <td>Afghanistan</td>\n",
       "      <td>2020-04-03</td>\n",
       "    </tr>\n",
       "    <tr>\n",
       "      <th>2</th>\n",
       "      <td>3</td>\n",
       "      <td>NaN</td>\n",
       "      <td>Afghanistan</td>\n",
       "      <td>2020-04-04</td>\n",
       "    </tr>\n",
       "    <tr>\n",
       "      <th>3</th>\n",
       "      <td>4</td>\n",
       "      <td>NaN</td>\n",
       "      <td>Afghanistan</td>\n",
       "      <td>2020-04-05</td>\n",
       "    </tr>\n",
       "    <tr>\n",
       "      <th>4</th>\n",
       "      <td>5</td>\n",
       "      <td>NaN</td>\n",
       "      <td>Afghanistan</td>\n",
       "      <td>2020-04-06</td>\n",
       "    </tr>\n",
       "  </tbody>\n",
       "</table>\n",
       "</div>"
      ],
      "text/plain": [
       "   ForecastId Province_State Country_Region        Date\n",
       "0           1            NaN    Afghanistan  2020-04-02\n",
       "1           2            NaN    Afghanistan  2020-04-03\n",
       "2           3            NaN    Afghanistan  2020-04-04\n",
       "3           4            NaN    Afghanistan  2020-04-05\n",
       "4           5            NaN    Afghanistan  2020-04-06"
      ]
     },
     "execution_count": 5,
     "metadata": {},
     "output_type": "execute_result"
    }
   ],
   "source": [
    "test_df.head()"
   ]
  },
  {
   "cell_type": "code",
   "execution_count": 6,
   "metadata": {},
   "outputs": [
    {
     "data": {
      "text/plain": [
       "Id                    0\n",
       "Province_State    14940\n",
       "Country_Region        0\n",
       "Date                  0\n",
       "ConfirmedCases        0\n",
       "Fatalities            0\n",
       "dtype: int64"
      ]
     },
     "execution_count": 6,
     "metadata": {},
     "output_type": "execute_result"
    }
   ],
   "source": [
    "train_df.isna().sum()"
   ]
  },
  {
   "cell_type": "code",
   "execution_count": 7,
   "metadata": {},
   "outputs": [
    {
     "data": {
      "text/plain": [
       "ForecastId           0\n",
       "Province_State    7740\n",
       "Country_Region       0\n",
       "Date                 0\n",
       "dtype: int64"
      ]
     },
     "execution_count": 7,
     "metadata": {},
     "output_type": "execute_result"
    }
   ],
   "source": [
    "test_df.isna().sum()"
   ]
  },
  {
   "cell_type": "code",
   "execution_count": 8,
   "metadata": {},
   "outputs": [
    {
     "data": {
      "text/plain": [
       "array([nan, 'Australian Capital Territory', 'New South Wales',\n",
       "       'Northern Territory', 'Queensland', 'South Australia', 'Tasmania',\n",
       "       'Victoria', 'Western Australia', 'Alberta', 'British Columbia',\n",
       "       'Manitoba', 'New Brunswick', 'Newfoundland and Labrador',\n",
       "       'Northwest Territories', 'Nova Scotia', 'Ontario',\n",
       "       'Prince Edward Island', 'Quebec', 'Saskatchewan', 'Yukon', 'Anhui',\n",
       "       'Beijing', 'Chongqing', 'Fujian', 'Gansu', 'Guangdong', 'Guangxi',\n",
       "       'Guizhou', 'Hainan', 'Hebei', 'Heilongjiang', 'Henan', 'Hong Kong',\n",
       "       'Hubei', 'Hunan', 'Inner Mongolia', 'Jiangsu', 'Jiangxi', 'Jilin',\n",
       "       'Liaoning', 'Macau', 'Ningxia', 'Qinghai', 'Shaanxi', 'Shandong',\n",
       "       'Shanghai', 'Shanxi', 'Sichuan', 'Tianjin', 'Tibet', 'Xinjiang',\n",
       "       'Yunnan', 'Zhejiang', 'Faroe Islands', 'Greenland',\n",
       "       'French Guiana', 'French Polynesia', 'Guadeloupe', 'Martinique',\n",
       "       'Mayotte', 'New Caledonia', 'Reunion', 'Saint Barthelemy',\n",
       "       'Saint Pierre and Miquelon', 'St Martin', 'Aruba',\n",
       "       'Bonaire, Sint Eustatius and Saba', 'Curacao', 'Sint Maarten',\n",
       "       'Alabama', 'Alaska', 'Arizona', 'Arkansas', 'California',\n",
       "       'Colorado', 'Connecticut', 'Delaware', 'District of Columbia',\n",
       "       'Florida', 'Georgia', 'Guam', 'Hawaii', 'Idaho', 'Illinois',\n",
       "       'Indiana', 'Iowa', 'Kansas', 'Kentucky', 'Louisiana', 'Maine',\n",
       "       'Maryland', 'Massachusetts', 'Michigan', 'Minnesota',\n",
       "       'Mississippi', 'Missouri', 'Montana', 'Nebraska', 'Nevada',\n",
       "       'New Hampshire', 'New Jersey', 'New Mexico', 'New York',\n",
       "       'North Carolina', 'North Dakota', 'Ohio', 'Oklahoma', 'Oregon',\n",
       "       'Pennsylvania', 'Puerto Rico', 'Rhode Island', 'South Carolina',\n",
       "       'South Dakota', 'Tennessee', 'Texas', 'Utah', 'Vermont',\n",
       "       'Virgin Islands', 'Virginia', 'Washington', 'West Virginia',\n",
       "       'Wisconsin', 'Wyoming', 'Anguilla', 'Bermuda',\n",
       "       'British Virgin Islands', 'Cayman Islands', 'Channel Islands',\n",
       "       'Falkland Islands (Malvinas)', 'Gibraltar', 'Isle of Man',\n",
       "       'Montserrat', 'Turks and Caicos Islands'], dtype=object)"
      ]
     },
     "execution_count": 8,
     "metadata": {},
     "output_type": "execute_result"
    }
   ],
   "source": [
    "train_df['Province_State'].unique()"
   ]
  },
  {
   "cell_type": "code",
   "execution_count": 9,
   "metadata": {},
   "outputs": [],
   "source": [
    "train_df['Province_State'].fillna('',inplace=True)\n",
    "test_df['Province_State'].fillna('',inplace=True)\n",
    "\n",
    "lb = LabelEncoder()\n",
    "train_df['Country_Region'] = lb.fit_transform(train_df['Country_Region'])\n",
    "test_df['Country_Region'] = lb.transform(test_df['Country_Region'])\n",
    "\n",
    "lb1 = LabelEncoder()\n",
    "train_df['Province_State'] = lb.fit_transform(train_df['Province_State'])\n",
    "test_df['Province_State'] = lb.transform(test_df['Province_State'])\n",
    "\n",
    "def split_date(date):\n",
    "    date = date.split('-')\n",
    "    date[0] = int(date[0])\n",
    "    if(date[1][0] == '0'):\n",
    "        date[1] = int(date[1][1])\n",
    "    else:\n",
    "        date[1] = int(date[1])\n",
    "    if(date[2][0] == '0'):\n",
    "        date[2] = int(date[2][1])\n",
    "    else:\n",
    "        date[2] = int(date[2])    \n",
    "    return date\n",
    "train_df.Date = train_df.Date.apply(split_date)\n",
    "test_df.Date = test_df.Date.apply(split_date)\n",
    "\n",
    "year = []\n",
    "month = []\n",
    "day = []\n",
    "for i in train_df.Date:\n",
    "    year.append(i[0])\n",
    "    month.append(i[1])\n",
    "    day.append(i[2])\n",
    "train_df['Year'] = year\n",
    "train_df['Month'] = month\n",
    "train_df['Day'] = day\n",
    "del train_df['Date']\n",
    "\n",
    "\n",
    "year = []\n",
    "month = []\n",
    "day = []\n",
    "for i in test_df.Date:\n",
    "    year.append(i[0])\n",
    "    month.append(i[1])\n",
    "    day.append(i[2])\n",
    "test_df['Year'] = year\n",
    "test_df['Month'] = month\n",
    "test_df['Day'] = day\n",
    "del test_df['Date']\n",
    "del train_df['Id']\n",
    "del test_df['ForecastId']\n",
    "del train_df['Year']\n",
    "del test_df['Year']\n",
    "\n",
    "train_df['ConfirmedCases'] = train_df['ConfirmedCases'].apply(int)\n",
    "train_df['Fatalities'] = train_df['Fatalities'].apply(int)\n",
    "\n",
    "cases = train_df.ConfirmedCases\n",
    "fatalities = train_df.Fatalities\n",
    "del train_df['ConfirmedCases']\n",
    "del train_df['Fatalities']\n",
    "\n",
    "scaler = MinMaxScaler()\n",
    "X = scaler.fit_transform(train_df.values)\n",
    "x_test = scaler.transform(test_df.values)\n"
   ]
  },
  {
   "cell_type": "code",
   "execution_count": 10,
   "metadata": {},
   "outputs": [
    {
     "data": {
      "text/html": [
       "<div>\n",
       "<style scoped>\n",
       "    .dataframe tbody tr th:only-of-type {\n",
       "        vertical-align: middle;\n",
       "    }\n",
       "\n",
       "    .dataframe tbody tr th {\n",
       "        vertical-align: top;\n",
       "    }\n",
       "\n",
       "    .dataframe thead th {\n",
       "        text-align: right;\n",
       "    }\n",
       "</style>\n",
       "<table border=\"1\" class=\"dataframe\">\n",
       "  <thead>\n",
       "    <tr style=\"text-align: right;\">\n",
       "      <th></th>\n",
       "      <th>Province_State</th>\n",
       "      <th>Country_Region</th>\n",
       "      <th>Month</th>\n",
       "      <th>Day</th>\n",
       "    </tr>\n",
       "  </thead>\n",
       "  <tbody>\n",
       "    <tr>\n",
       "      <th>0</th>\n",
       "      <td>0</td>\n",
       "      <td>0</td>\n",
       "      <td>1</td>\n",
       "      <td>22</td>\n",
       "    </tr>\n",
       "    <tr>\n",
       "      <th>1</th>\n",
       "      <td>0</td>\n",
       "      <td>0</td>\n",
       "      <td>1</td>\n",
       "      <td>23</td>\n",
       "    </tr>\n",
       "    <tr>\n",
       "      <th>2</th>\n",
       "      <td>0</td>\n",
       "      <td>0</td>\n",
       "      <td>1</td>\n",
       "      <td>24</td>\n",
       "    </tr>\n",
       "    <tr>\n",
       "      <th>3</th>\n",
       "      <td>0</td>\n",
       "      <td>0</td>\n",
       "      <td>1</td>\n",
       "      <td>25</td>\n",
       "    </tr>\n",
       "    <tr>\n",
       "      <th>4</th>\n",
       "      <td>0</td>\n",
       "      <td>0</td>\n",
       "      <td>1</td>\n",
       "      <td>26</td>\n",
       "    </tr>\n",
       "  </tbody>\n",
       "</table>\n",
       "</div>"
      ],
      "text/plain": [
       "   Province_State  Country_Region  Month  Day\n",
       "0               0               0      1   22\n",
       "1               0               0      1   23\n",
       "2               0               0      1   24\n",
       "3               0               0      1   25\n",
       "4               0               0      1   26"
      ]
     },
     "execution_count": 10,
     "metadata": {},
     "output_type": "execute_result"
    }
   ],
   "source": [
    "train_df.head()"
   ]
  },
  {
   "cell_type": "code",
   "execution_count": 11,
   "metadata": {},
   "outputs": [],
   "source": [
    "# X_train, X_valid, y_train, y_valid = train_test_split( X, cases, test_size=0.3, random_state=42)"
   ]
  },
  {
   "cell_type": "code",
   "execution_count": 12,
   "metadata": {},
   "outputs": [],
   "source": [
    "# for i in range(20):\n",
    "    xg = XGBRegressor(n_estimators = 10*1000 , random_state = 0 , max_depth = 15)\n",
    "    xg.fit(X,cases)\n",
    "\n",
    "    cases_pred = xg.predict(x_test)\n",
    "    cases_pred[cases_pred < 0] = 0\n",
    "#     print(\"error\",'\\t',mean_squared_log_error(y_valid, cases_pred))"
   ]
  },
  {
   "cell_type": "code",
   "execution_count": 13,
   "metadata": {},
   "outputs": [],
   "source": [
    "# from keras.callbacks import ModelCheckpoint\n",
    "# from keras.models import Sequential\n",
    "# from keras.layers import Dense, Activation, Flatten\n",
    "# from sklearn.model_selection import train_test_split\n",
    "# from sklearn.ensemble import RandomForestRegressor\n",
    "# from sklearn.metrics import mean_absolute_error \n",
    "# from matplotlib import pyplot as plt\n",
    "# import seaborn as sb\n",
    "# import matplotlib.pyplot as plt\n",
    "# import pandas as pd\n",
    "# import numpy as np\n",
    "# import warnings \n",
    "# warnings.filterwarnings('ignore')\n",
    "# warnings.filterwarnings('ignore', category=DeprecationWarning)\n",
    "# from xgboost import XGBRegressor"
   ]
  },
  {
   "cell_type": "code",
   "execution_count": 14,
   "metadata": {},
   "outputs": [],
   "source": [
    "# model = Sequential()\n",
    "\n",
    "# # The Input Layer :\n",
    "# model.add(Dense(128, kernel_initializer='normal',input_dim = X_train.shape[1], activation='relu'))\n",
    "\n",
    "# # The Hidden Layers :\n",
    "# model.add(Dense(256, kernel_initializer='normal',activation='relu'))\n",
    "# model.add(Dense(256, kernel_initializer='normal',activation='relu'))\n",
    "# model.add(Dense(256, kernel_initializer='normal',activation='relu'))\n",
    "# model.add(Dense(256, kernel_initializer='normal',activation='relu'))\n",
    "# model.add(Dense(256, kernel_initializer='normal',activation='relu'))\n",
    "# model.add(Dense(256, kernel_initializer='normal',activation='relu'))\n",
    "\n",
    "# # The Output Layer :\n",
    "# model.add(Dense(1, kernel_initializer='normal',activation='linear'))\n",
    "\n",
    "# # Compile the network :\n",
    "# model.compile(loss='mean_squared_logarithmic_error', optimizer='adam', metrics=['accuracy'])\n",
    "# model.summary()"
   ]
  },
  {
   "cell_type": "code",
   "execution_count": 15,
   "metadata": {},
   "outputs": [],
   "source": [
    "\n",
    "# checkpoint_name = 'Weights-{epoch:03d}--{val_loss:.5f}.hdf5' \n",
    "# checkpoint = ModelCheckpoint(checkpoint_name, monitor='val_loss', verbose = 1, save_best_only = True, mode ='auto')\n",
    "# callbacks_list = [checkpoint]"
   ]
  },
  {
   "cell_type": "code",
   "execution_count": 16,
   "metadata": {},
   "outputs": [],
   "source": [
    "# history = model.fit(X, cases, epochs=50, batch_size=32, validation_split = 0.2, callbacks=callbacks_list)"
   ]
  },
  {
   "cell_type": "code",
   "execution_count": 17,
   "metadata": {},
   "outputs": [],
   "source": [
    "# loss_train = history.history['loss']\n",
    "# loss_val = history.history['val_loss']\n",
    "# epochs = range(50)\n",
    "# plt.plot(epochs, loss_train, 'g', label='Training loss')\n",
    "# plt.plot(epochs, loss_val, 'b', label='validation loss')\n",
    "# plt.title('Training and Validation loss')\n",
    "# plt.xlabel('Epochs')\n",
    "# plt.ylabel('Loss')\n",
    "# plt.legend()\n",
    "# plt.show()"
   ]
  },
  {
   "cell_type": "code",
   "execution_count": 18,
   "metadata": {},
   "outputs": [],
   "source": [
    "# loss_train = history.history['acc']\n",
    "# loss_val = history.history['val_acc']\n",
    "# epochs = range(1,11)\n",
    "# plt.plot(epochs, loss_train, 'g', label='Training accuracy')\n",
    "# plt.plot(epochs, loss_val, 'b', label='validation accuracy')\n",
    "# plt.title('Training and Validation accuracy')\n",
    "# plt.xlabel('Epochs')\n",
    "# plt.ylabel('Accuracy')\n",
    "# plt.legend()\n",
    "# plt.show()"
   ]
  },
  {
   "cell_type": "code",
   "execution_count": 19,
   "metadata": {},
   "outputs": [],
   "source": [
    "# wights_file = 'Weights-039--3.66521.hdf5'\n",
    "# model.load_weights(wights_file) # load it"
   ]
  },
  {
   "cell_type": "code",
   "execution_count": 20,
   "metadata": {},
   "outputs": [],
   "source": [
    "X_cas = []\n",
    "for i in range(len(X)):\n",
    "    x = list(X[i])\n",
    "    x.append(cases[i])\n",
    "    X_cas.append(x)\n",
    "\n",
    "X_cas = np.array(X_cas)\n",
    "\n",
    "# X_train, X_valid, y_train, y_valid = train_test_split( X_cas, fatalities, test_size=0.3, random_state=42)"
   ]
  },
  {
   "cell_type": "code",
   "execution_count": 21,
   "metadata": {},
   "outputs": [],
   "source": [
    "rf = XGBRegressor(n_estimators = 10000 , random_state = 0 , max_depth = 15)\n",
    "rf.fit(X,fatalities)\n",
    "fatalities_pred = rf.predict(x_test)\n",
    "fatalities_pred[fatalities_pred < 0] = 0\n",
    "# mean_squared_log_error(y_valid, fatalities_pred)"
   ]
  },
  {
   "cell_type": "code",
   "execution_count": 22,
   "metadata": {},
   "outputs": [],
   "source": [
    "submission_df['ConfirmedCases'] = cases_pred\n",
    "submission_df['Fatalities'] = fatalities_pred"
   ]
  },
  {
   "cell_type": "code",
   "execution_count": 23,
   "metadata": {},
   "outputs": [
    {
     "data": {
      "text/html": [
       "<div>\n",
       "<style scoped>\n",
       "    .dataframe tbody tr th:only-of-type {\n",
       "        vertical-align: middle;\n",
       "    }\n",
       "\n",
       "    .dataframe tbody tr th {\n",
       "        vertical-align: top;\n",
       "    }\n",
       "\n",
       "    .dataframe thead th {\n",
       "        text-align: right;\n",
       "    }\n",
       "</style>\n",
       "<table border=\"1\" class=\"dataframe\">\n",
       "  <thead>\n",
       "    <tr style=\"text-align: right;\">\n",
       "      <th></th>\n",
       "      <th>ForecastId</th>\n",
       "      <th>ConfirmedCases</th>\n",
       "      <th>Fatalities</th>\n",
       "    </tr>\n",
       "  </thead>\n",
       "  <tbody>\n",
       "    <tr>\n",
       "      <th>0</th>\n",
       "      <td>1</td>\n",
       "      <td>272.997070</td>\n",
       "      <td>6.002759</td>\n",
       "    </tr>\n",
       "    <tr>\n",
       "      <th>1</th>\n",
       "      <td>2</td>\n",
       "      <td>281.001465</td>\n",
       "      <td>5.999040</td>\n",
       "    </tr>\n",
       "    <tr>\n",
       "      <th>2</th>\n",
       "      <td>3</td>\n",
       "      <td>298.999023</td>\n",
       "      <td>7.000583</td>\n",
       "    </tr>\n",
       "    <tr>\n",
       "      <th>3</th>\n",
       "      <td>4</td>\n",
       "      <td>348.999756</td>\n",
       "      <td>6.996486</td>\n",
       "    </tr>\n",
       "    <tr>\n",
       "      <th>4</th>\n",
       "      <td>5</td>\n",
       "      <td>367.000671</td>\n",
       "      <td>11.004494</td>\n",
       "    </tr>\n",
       "  </tbody>\n",
       "</table>\n",
       "</div>"
      ],
      "text/plain": [
       "   ForecastId  ConfirmedCases  Fatalities\n",
       "0           1      272.997070    6.002759\n",
       "1           2      281.001465    5.999040\n",
       "2           3      298.999023    7.000583\n",
       "3           4      348.999756    6.996486\n",
       "4           5      367.000671   11.004494"
      ]
     },
     "execution_count": 23,
     "metadata": {},
     "output_type": "execute_result"
    }
   ],
   "source": [
    "submission_df.head()"
   ]
  },
  {
   "cell_type": "code",
   "execution_count": 24,
   "metadata": {},
   "outputs": [],
   "source": [
    "submission_df.to_csv(\"submission.csv\" , index = False)"
   ]
  },
  {
   "cell_type": "code",
   "execution_count": null,
   "metadata": {},
   "outputs": [],
   "source": []
  }
 ],
 "metadata": {
  "kernelspec": {
   "display_name": "Python 3",
   "language": "python",
   "name": "python3"
  },
  "language_info": {
   "codemirror_mode": {
    "name": "ipython",
    "version": 3
   },
   "file_extension": ".py",
   "mimetype": "text/x-python",
   "name": "python",
   "nbconvert_exporter": "python",
   "pygments_lexer": "ipython3",
   "version": "3.6.6"
  }
 },
 "nbformat": 4,
 "nbformat_minor": 4
}
